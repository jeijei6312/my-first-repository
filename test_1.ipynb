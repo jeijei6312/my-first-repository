{
 "cells": [
  {
   "cell_type": "markdown",
   "metadata": {},
   "source": [
    "### Git commands\n",
    "\n",
    "below are the basic git commands when you want to save your work on github:\n",
    "\n",
    "* git add test_1.ipynb\n",
    "* git commit -m 'initial commit'\n",
    "* git push origin master or main\n"
   ]
  },
  {
   "cell_type": "markdown",
   "metadata": {},
   "source": [
    "*Alway repeat this basic commands of git incase off any additions to save on git hub\n",
    "\n",
    "### Jupyter follow ups  \n",
    "\n",
    "basic steps on Anaconda on how to open jupyter notebook:\n",
    "  * cd Documents\n",
    "  * cd Flatiron\n",
    "  * mkdir (name of new folder) eg;test_folder_1\n",
    "  * dir\n",
    "  * cd (name of new folder)\n",
    "  * conda deactivate (to deactivate the base)\n",
    "  * conda activate learn-env(to avtivate a learning environment)\n",
    "  * open git hub, copy file on repository file\n",
    "  * git clone paste copied repository file\n",
    "  * dir\n",
    "  * cd (name of repository file)\n",
    "  * jupyter notebook\n",
    "    \n"
   ]
  },
  {
   "cell_type": "code",
   "execution_count": null,
   "metadata": {},
   "outputs": [],
   "source": []
  },
  {
   "cell_type": "markdown",
   "metadata": {},
   "source": []
  },
  {
   "cell_type": "markdown",
   "metadata": {},
   "source": []
  }
 ],
 "metadata": {
  "kernelspec": {
   "display_name": "Python 3",
   "language": "python",
   "name": "python3"
  },
  "language_info": {
   "codemirror_mode": {
    "name": "ipython",
    "version": 3
   },
   "file_extension": ".py",
   "mimetype": "text/x-python",
   "name": "python",
   "nbconvert_exporter": "python",
   "pygments_lexer": "ipython3",
   "version": "3.8.5"
  }
 },
 "nbformat": 4,
 "nbformat_minor": 4
}
